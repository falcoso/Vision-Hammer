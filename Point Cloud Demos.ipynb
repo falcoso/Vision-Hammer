{
 "cells": [
  {
   "cell_type": "markdown",
   "metadata": {},
   "source": [
    "# Point Cloud Demonstrations\n",
    "\n",
    "## Registration\n",
    "\n",
    "Registers two point clouds with slight offset.\n"
   ]
  },
  {
   "cell_type": "code",
   "execution_count": 3,
   "metadata": {},
   "outputs": [],
   "source": [
    "import open3d as o3d\n",
    "import numpy as np\n",
    "import copy\n",
    "import random\n",
    "import copy\n",
    "from collections import Counter\n",
    "\n",
    "import utils\n",
    "import correspondance as corr"
   ]
  },
  {
   "cell_type": "code",
   "execution_count": null,
   "metadata": {},
   "outputs": [],
   "source": [
    "def draw_registration_result_original_color(source, target, transformation):\n",
    "    source_temp = copy.deepcopy(source)\n",
    "    source_temp.transform(transformation)\n",
    "    o3d.visualization.draw_geometries([source_temp, target])\n",
    "\n",
    "# load point clouds\n",
    "base = o3d.io.read_point_cloud(\"./Point Clouds/Cleaner/1.ply\")\n",
    "source = o3d.io.read_point_cloud(\"./Point Clouds/Cleaner/8.ply\")\n",
    "\n",
    "# get 4x4 transformation matrix\n",
    "trans = corr.register_clouds(base, source)\n",
    "\n",
    "# show original clouds\n",
    "o3d.visualization.draw_geometries([base, source])\n",
    "\n",
    "# show aligned clouds\n",
    "draw_registration_result_original_color(source, base, trans)\n"
   ]
  },
  {
   "cell_type": "markdown",
   "metadata": {},
   "source": [
    "## Normals of point cloud\n",
    "Shows the histogram of normals for the cloud. See utils module - running in notebook is much slower"
   ]
  },
  {
   "cell_type": "markdown",
   "metadata": {},
   "source": [
    "## Outlier removal\n",
    "Removes outliers and scatter artifacts from the pointcloud"
   ]
  },
  {
   "cell_type": "code",
   "execution_count": null,
   "metadata": {},
   "outputs": [],
   "source": [
    "cl, ind=utils.clean_cloud(\"./Point Clouds/Cleaner/1.ply\", view=True)"
   ]
  },
  {
   "cell_type": "markdown",
   "metadata": {},
   "source": [
    "## Cleaned and combined 8 clouds"
   ]
  },
  {
   "cell_type": "code",
   "execution_count": null,
   "metadata": {},
   "outputs": [],
   "source": [
    "base = o3d.io.read_point_cloud(\"./Point Clouds/combined_cloud_clean_cropped.ply\")\n",
    "o3d.visualization.draw_geometries([base])"
   ]
  },
  {
   "cell_type": "markdown",
   "metadata": {},
   "source": [
    "# Region Growing Segmentation\n",
    "Demonstrates region growing algorithm for downsampled cloud"
   ]
  },
  {
   "cell_type": "code",
   "execution_count": 4,
   "metadata": {},
   "outputs": [
    {
     "name": "stderr",
     "output_type": "stream",
     "text": [
      "  0%|                                                                                        | 0/12369 [00:00<?, ?it/s]\n"
     ]
    },
    {
     "ename": "IndexError",
     "evalue": "index 0 is out of bounds for axis 0 with size 0",
     "output_type": "error",
     "traceback": [
      "\u001b[1;31m---------------------------------------------------------------------------\u001b[0m",
      "\u001b[1;31mIndexError\u001b[0m                                Traceback (most recent call last)",
      "\u001b[1;32m<ipython-input-4-aea004e00ce6>\u001b[0m in \u001b[0;36m<module>\u001b[1;34m\u001b[0m\n\u001b[0;32m      2\u001b[0m \u001b[0mpcd\u001b[0m \u001b[1;33m=\u001b[0m \u001b[0mcl\u001b[0m\u001b[1;33m.\u001b[0m\u001b[0mvoxel_down_sample\u001b[0m\u001b[1;33m(\u001b[0m\u001b[1;36m0.01\u001b[0m\u001b[1;33m)\u001b[0m\u001b[1;33m\u001b[0m\u001b[1;33m\u001b[0m\u001b[0m\n\u001b[0;32m      3\u001b[0m \u001b[1;33m\u001b[0m\u001b[0m\n\u001b[1;32m----> 4\u001b[1;33m \u001b[0mplanes_list\u001b[0m \u001b[1;33m=\u001b[0m \u001b[0mcorr\u001b[0m\u001b[1;33m.\u001b[0m\u001b[0mregion_grow\u001b[0m\u001b[1;33m(\u001b[0m\u001b[0mpcd\u001b[0m\u001b[1;33m)\u001b[0m\u001b[1;33m\u001b[0m\u001b[1;33m\u001b[0m\u001b[0m\n\u001b[0m\u001b[0;32m      5\u001b[0m \u001b[1;33m\u001b[0m\u001b[0m\n\u001b[0;32m      6\u001b[0m \u001b[1;32mfor\u001b[0m \u001b[0mplane\u001b[0m \u001b[1;32min\u001b[0m \u001b[0mplanes_list\u001b[0m\u001b[1;33m:\u001b[0m\u001b[1;33m\u001b[0m\u001b[1;33m\u001b[0m\u001b[0m\n",
      "\u001b[1;32mD:\\IIB Project\\correspondance.py\u001b[0m in \u001b[0;36mregion_grow\u001b[1;34m(pcd, tol, find_planes)\u001b[0m\n\u001b[0;32m    127\u001b[0m             \u001b[0mseeds\u001b[0m \u001b[1;33m=\u001b[0m \u001b[1;33m{\u001b[0m\u001b[0mstart_point\u001b[0m\u001b[1;33m}\u001b[0m\u001b[1;33m\u001b[0m\u001b[1;33m\u001b[0m\u001b[0m\n\u001b[0;32m    128\u001b[0m             \u001b[0mplane\u001b[0m \u001b[1;33m=\u001b[0m \u001b[1;33m{\u001b[0m\u001b[0mstart_point\u001b[0m\u001b[1;33m}\u001b[0m\u001b[1;33m\u001b[0m\u001b[1;33m\u001b[0m\u001b[0m\n\u001b[1;32m--> 129\u001b[1;33m             \u001b[0mmatch_normal\u001b[0m \u001b[1;33m=\u001b[0m \u001b[0mnormals\u001b[0m\u001b[1;33m[\u001b[0m\u001b[0mstart_point\u001b[0m\u001b[1;33m]\u001b[0m\u001b[1;33m\u001b[0m\u001b[1;33m\u001b[0m\u001b[0m\n\u001b[0m\u001b[0;32m    130\u001b[0m             \u001b[0mcounter\u001b[0m \u001b[1;33m=\u001b[0m \u001b[1;36m0\u001b[0m  \u001b[1;31m# counter to re-align the vector\u001b[0m\u001b[1;33m\u001b[0m\u001b[1;33m\u001b[0m\u001b[0m\n\u001b[0;32m    131\u001b[0m             \u001b[1;32mwhile\u001b[0m \u001b[0mseeds\u001b[0m \u001b[1;33m!=\u001b[0m \u001b[0mset\u001b[0m\u001b[1;33m(\u001b[0m\u001b[1;33m)\u001b[0m\u001b[1;33m:\u001b[0m\u001b[1;33m\u001b[0m\u001b[1;33m\u001b[0m\u001b[0m\n",
      "\u001b[1;31mIndexError\u001b[0m: index 0 is out of bounds for axis 0 with size 0"
     ]
    }
   ],
   "source": [
    "cl = o3d.io.read_point_cloud(\"./Point Clouds/combined_cloud_clean_cropped.ply\")\n",
    "pcd = cl.voxel_down_sample(0.01)\n",
    "\n",
    "planes_list = corr.region_grow(pcd)\n",
    "\n",
    "for plane in planes_list:\n",
    "    colour = [random.uniform(0,1),random.uniform(0,1),random.uniform(0,1)]\n",
    "    for i in plane:\n",
    "        pcd.colors[i] = colour\n",
    "\n",
    "o3d.visualization.draw_geometries([pcd])\n",
    "\n",
    "# extract walls which is the largest object in the cloud\n",
    "\n",
    "walls = planes_list[np.argmax(np.array([len(i) for i in planes_list]))]\n",
    "walls = pcd.select_down_sample(walls)"
   ]
  },
  {
   "cell_type": "markdown",
   "metadata": {},
   "source": [
    "## Isolating each wall plane"
   ]
  },
  {
   "cell_type": "code",
   "execution_count": null,
   "metadata": {},
   "outputs": [],
   "source": [
    "planes_list, plane_normals = corr.region_grow(walls, 0.8, True)\n",
    "\n",
    "colours = [[1,0,0],[0,1,0],[0,0,1]]\n",
    "\n",
    "for plane, colour in zip(planes_list, colours):\n",
    "    for i in plane:\n",
    "        walls.colors[i] = colour\n",
    "\n",
    "o3d.visualization.draw_geometries([walls])\n",
    "\n",
    "print(plane_normals)\n"
   ]
  },
  {
   "cell_type": "markdown",
   "metadata": {},
   "source": [
    "## SVD of Walls\n",
    "Principle vectors pick out the normals of the wall"
   ]
  },
  {
   "cell_type": "code",
   "execution_count": null,
   "metadata": {},
   "outputs": [],
   "source": [
    "plane = planes_list[1]\n",
    "wall_cp = copy.deepcopy(walls)\n",
    "plane = wall_cp.select_down_sample(plane)\n",
    "points = np.asarray(plane.points)\n",
    "points -= np.mean(points, axis=0)\n",
    "u, s, v = np.linalg.svd(points)\n",
    "\n",
    "normal = np.matmul(np.linalg.pinv(points), np.ones(points.shape[0]))\n",
    "normal /= np.linalg.norm(normal)\n",
    "\n",
    "o3d.visualization.draw_geometries([plane, utils.create_vector_graph(v), utils.create_vector_graph([normal])])"
   ]
  },
  {
   "cell_type": "markdown",
   "metadata": {},
   "source": [
    "## Match to plane in full size cloud  (deprec)"
   ]
  },
  {
   "cell_type": "code",
   "execution_count": null,
   "metadata": {},
   "outputs": [],
   "source": [
    "# now match to the original full size point cloud\n",
    "\n",
    "cl.paint_uniform_color([0.5,0.5,0.5])\n",
    "print(plane_normals)\n",
    "for norm, colour in zip(plane_normals, colours):\n",
    "    dot_match = np.abs(1-np.asarray(cl.points).dot(norm))\n",
    "    for i in range(len(dot_match)):\n",
    "        if dot_match[i] <0.04:\n",
    "            cl.colors[i] = colour\n",
    "\n",
    "# add normals for clearer viewing\n",
    "if not cl.has_normals():\n",
    "    cl.estimate_normals(o3d.geometry.KDTreeSearchParamHybrid(radius=0.04 * 2, max_nn=30))\n",
    "o3d.visualization.draw_geometries([cl])"
   ]
  },
  {
   "cell_type": "markdown",
   "metadata": {},
   "source": [
    "## DBSCAN Methods (deprec)"
   ]
  },
  {
   "cell_type": "code",
   "execution_count": null,
   "metadata": {},
   "outputs": [],
   "source": [
    "pcd = o3d.io.read_point_cloud(\"./Point Clouds/combined_cloud_clean_cropped.ply\")\n",
    "pcd = pcd.voxel_down_sample(0.005)\n",
    "\n",
    "isolated= corr.remove_planes(pcd)\n",
    "\n",
    "labels = np.array(isolated.cluster_dbscan(eps=0.01, min_points=40, print_progress=True))\n",
    "colours = np.random.rand(labels.max()+1, 3)\n",
    "for i in range(len(labels)):\n",
    "    if labels[i] == -1:\n",
    "        isolated.colors[i] = [0,0,0]\n",
    "        continue\n",
    "    isolated.colors[i] = colours[labels[i]]\n",
    "outliers = np.where(labels == -1)[0]\n",
    "isolated = isolated.select_down_sample(outliers, invert=True)\n",
    "\n",
    "o3d.visualization.draw_geometries([isolated])\n"
   ]
  },
  {
   "cell_type": "markdown",
   "metadata": {},
   "source": [
    "## Merging model clouds\n"
   ]
  },
  {
   "cell_type": "code",
   "execution_count": 2,
   "metadata": {},
   "outputs": [
    {
     "name": "stderr",
     "output_type": "stream",
     "text": [
      "100%|██████████| 2546/2546 [00:00<00:00, 16805.76it/s]\n",
      "  0%|          | 0/2477 [00:00<?, ?it/s]"
     ]
    },
    {
     "name": "stdout",
     "output_type": "stream",
     "text": [
      "0\n"
     ]
    },
    {
     "name": "stderr",
     "output_type": "stream",
     "text": [
      "100%|██████████| 2477/2477 [00:00<00:00, 15744.09it/s]\n"
     ]
    },
    {
     "name": "stdout",
     "output_type": "stream",
     "text": [
      "Registering\n"
     ]
    },
    {
     "name": "stderr",
     "output_type": "stream",
     "text": [
      " 94%|█████████▍| 2392/2546 [00:00<00:00, 18220.74it/s]"
     ]
    },
    {
     "name": "stdout",
     "output_type": "stream",
     "text": [
      "1\n"
     ]
    },
    {
     "name": "stderr",
     "output_type": "stream",
     "text": [
      "100%|██████████| 2546/2546 [00:00<00:00, 16601.34it/s]\n"
     ]
    },
    {
     "name": "stdout",
     "output_type": "stream",
     "text": [
      "Registering\n"
     ]
    },
    {
     "name": "stderr",
     "output_type": "stream",
     "text": [
      "\r",
      "  0%|          | 0/2529 [00:00<?, ?it/s]"
     ]
    },
    {
     "name": "stdout",
     "output_type": "stream",
     "text": [
      "2\n"
     ]
    },
    {
     "name": "stderr",
     "output_type": "stream",
     "text": [
      "100%|██████████| 2529/2529 [00:00<00:00, 15433.09it/s]\n"
     ]
    },
    {
     "name": "stdout",
     "output_type": "stream",
     "text": [
      "Registering\n"
     ]
    },
    {
     "name": "stderr",
     "output_type": "stream",
     "text": [
      "\r",
      "  0%|          | 0/2499 [00:00<?, ?it/s]"
     ]
    },
    {
     "name": "stdout",
     "output_type": "stream",
     "text": [
      "3\n"
     ]
    },
    {
     "name": "stderr",
     "output_type": "stream",
     "text": [
      "100%|██████████| 2499/2499 [00:00<00:00, 13873.77it/s]\n"
     ]
    },
    {
     "name": "stdout",
     "output_type": "stream",
     "text": [
      "Registering\n"
     ]
    }
   ],
   "source": [
    "scale = 1\n",
    "\n",
    "cl1 = o3d.io.read_point_cloud(\"./Point Clouds/Field Clouds/Commander/1.3.ply\")\n",
    "cl1 = corr.isolate_model(cl1)\n",
    "plane1 = utils.create_origin_plane(100)\n",
    "cl1 += plane1\n",
    "cl1.scale(scale)\n",
    "\n",
    "for i in range(4):\n",
    "    print(i)\n",
    "    cl2 = o3d.io.read_point_cloud(\"./Point Clouds/Field Clouds/Commander/1.{}.ply\".format(i+2))\n",
    "    cl2 = corr.isolate_model(cl2)\n",
    "    temp_cl = cl2 + plane1\n",
    "    \n",
    "    temp_cl.scale(scale)\n",
    "    cl2.scale(scale)\n",
    "    print(\"Registering\")\n",
    "    tran = corr.register_clouds(cl1, temp_cl, voxel_radius=[0.01, 0.005, 0.0001], max_iter=[1000,1000,10000])\n",
    "    \n",
    "    cl2 = cl2.transform(tran)\n",
    "    cl1 += cl2\n",
    "    cl1.estimate_normals(o3d.geometry.KDTreeSearchParamHybrid(radius=0.04 * 2, max_nn=30))\n",
    "    \n",
    "o3d.visualization.draw_geometries([cl1])"
   ]
  },
  {
   "cell_type": "markdown",
   "metadata": {},
   "source": [
    "# Reference models"
   ]
  },
  {
   "cell_type": "code",
   "execution_count": null,
   "metadata": {},
   "outputs": [],
   "source": [
    "cmdr = o3d.io.read_point_cloud(\"./Point Clouds/Commander Ref.ply\")\n",
    "brdsd = o3d.io.read_point_cloud(\"./Point Clouds/Broadside Ref.ply\")\n",
    "o3d.visualization.draw_geometries([cmdr])\n",
    "o3d.visualization.draw_geometries([brdsd])"
   ]
  },
  {
   "cell_type": "markdown",
   "metadata": {},
   "source": [
    "# Recognising Models"
   ]
  },
  {
   "cell_type": "code",
   "execution_count": 3,
   "metadata": {},
   "outputs": [
    {
     "name": "stdout",
     "output_type": "stream",
     "text": [
      "Counter({1: 1690, 0: 1558, -1: 494, 3: 370, 2: 293})\n",
      "1558\n",
      "0.0001939184216741835\n",
      "1690\n",
      "0.0002557404839896712\n",
      "293\n",
      "2.5114991737324598e-05\n",
      "370\n",
      "3.814884067853866e-05\n"
     ]
    }
   ],
   "source": [
    "isolated = o3d.io.read_point_cloud(\"isolated.ply\")\n",
    "o3d.visualization.draw_geometries([isolated])\n",
    "\n",
    "labels = np.array(isolated.cluster_dbscan(eps=0.01, min_points=40, print_progress=True))\n",
    "targets = []\n",
    "print(Counter(labels))\n",
    "for i in range(labels.max()+1):\n",
    "    obj = np.where(labels==i)[0]\n",
    "    obj = isolated.select_down_sample(obj)\n",
    "    obj = obj.translate(-obj.get_center())\n",
    "    targets.append(obj)\n",
    "    print(len(obj.points))\n",
    "    print(obj.get_oriented_bounding_box().volume())"
   ]
  },
  {
   "cell_type": "code",
   "execution_count": 4,
   "metadata": {},
   "outputs": [
    {
     "name": "stdout",
     "output_type": "stream",
     "text": [
      "Ref volumes:\n",
      "Commander: 0.0003652094541903232\n",
      "Broadside: 0.0005321971764080777\n",
      "[[ 0.02041835  0.00021737  0.04343093]\n",
      " [ 0.04573718  0.08701527  0.00685849]\n",
      " [-0.04463149  0.01328385  0.02940828]\n",
      " [ 0.02658997 -0.02260755 -0.00646722]\n",
      " [-0.01314105  0.07725684 -0.05706231]\n",
      " [-0.03845987 -0.00954106 -0.02048987]\n",
      " [ 0.0519088   0.06419036 -0.04303966]\n",
      " [-0.01931266  0.10008176 -0.00716416]]\n"
     ]
    }
   ],
   "source": [
    "# for i in targets:\n",
    "#     print(i.get_oriented_bounding_box().volume())\n",
    "cmdr = o3d.io.read_point_cloud(\"./Point Clouds/Commander Ref.ply\")\n",
    "brdsd = o3d.io.read_point_cloud(\"./Point Clouds/Broadside Ref.ply\")\n",
    "\n",
    "cmdr_vol = cmdr.get_oriented_bounding_box().volume()\n",
    "brdsd_vol = brdsd.get_oriented_bounding_box().volume()\n",
    "print(\"Ref volumes:\")\n",
    "print(\"Commander: {}\".format(cmdr.get_oriented_bounding_box().volume()))\n",
    "print(\"Broadside: {}\".format(brdsd.get_oriented_bounding_box().volume()))\n",
    "print(np.asarray(cmdr.get_oriented_bounding_box().get_box_points()))\n",
    "\n",
    "# print(\"Commander matching\")\n",
    "# for pcd in targets:\n",
    "#     vol = pcd.get_oriented_bounding_box().volume()\n",
    "#     if vol > 0.3*cmdr_vol and vol < cmdr_vol:\n",
    "#         o3d.visualization.draw_geometries([pcd])\n",
    "        \n",
    "# print(\"Broadside matching\")\n",
    "# for pcd in targets:\n",
    "#     vol = pcd.get_oriented_bounding_box().volume()\n",
    "#     if vol > 0.3*brdsd_vol and vol < brdsd_vol:\n",
    "#         o3d.visualization.draw_geometries([pcd])"
   ]
  },
  {
   "cell_type": "markdown",
   "metadata": {},
   "source": [
    "## Getting building axis"
   ]
  },
  {
   "cell_type": "code",
   "execution_count": 5,
   "metadata": {},
   "outputs": [
    {
     "name": "stdout",
     "output_type": "stream",
     "text": [
      "Segmenting\n",
      "Scenery cluster\n"
     ]
    },
    {
     "name": "stderr",
     "output_type": "stream",
     "text": [
      "100%|██████████████████████████████████████████████████████████████████████████| 13522/13522 [00:02<00:00, 6016.19it/s]\n"
     ]
    }
   ],
   "source": [
    "# use this function in the table scenes, it will produce for the buildings the normal histograms\n",
    "\n",
    "def matching(pcd, labels):\n",
    "    # define fp to reference models\n",
    "    refs = {}\n",
    "    refs[\"Commander\"] = o3d.io.read_point_cloud(\"./Point Clouds/Commander Ref.ply\")\n",
    "    refs[\"Broadside\"] = o3d.io.read_point_cloud(\"./Point Clouds/Broadside Ref.ply\")\n",
    "    ref_vols = np.array([i.get_oriented_bounding_box().volume() for j, i in refs.items()])\n",
    "\n",
    "    # go through all clusters that have been labelled but not classified as\n",
    "    # outliers or the table plane\n",
    "    for i in range(labels.max()):  # note that this will go up to but not include table\n",
    "        cluster = np.where(labels == i)[0]\n",
    "        cluster = pcd.select_down_sample(cluster)\n",
    "        vol = cluster.get_oriented_bounding_box().volume()\n",
    "\n",
    "        # first filter possible matches based on size\n",
    "        matches = []\n",
    "        if vol > np.max(ref_vols): # potentially item of scenery, cluster more finely\n",
    "            print(\"Scenery cluster\")\n",
    "            cluster.estimate_normals()\n",
    "            cluster.normalize_normals()\n",
    "            planes, normals = corr.region_grow(cluster, find_planes=True)\n",
    "            lens = np.array([len(i) for i in planes])\n",
    "            normals = np.multiply(lens, normals.T).T\n",
    "            vecs = utils.hist_normals(normals, bin_size=0.95)\n",
    "            vecs = utils.create_vector_graph(vecs)\n",
    "            vecs2 = utils.hist_normals(np.asarray(cluster.normals), bin_size=0.95)\n",
    "            vecs2 = utils.create_vector_graph(vecs2)\n",
    "            vecs2.paint_uniform_color([1,0,0])\n",
    "            o3d.visualization.draw_geometries([cluster, vecs, vecs2, cluster.get_axis_aligned_bounding_box()])\n",
    "\n",
    "        elif vol < 0.3*np.min(ref_vols):\n",
    "            pass # not big enough to classify\n",
    "        else:\n",
    "            for (key, cl), ref_vol in zip(refs.items(), ref_vols):\n",
    "                if vol <= ref_vol and vol > 0.3*ref_vol:\n",
    "                    matches.append(key)\n",
    "\n",
    "            match_rate = np.zeros(len(matches))\n",
    "            for match in matches:\n",
    "                cluster.translate(-cluster.get_center())\n",
    "                \n",
    "clouds = []\n",
    "for i in range(2,6):\n",
    "    clouds.append(o3d.io.read_point_cloud(\"./Point Clouds/Field Clouds/Board 2/7.{}.ply\".format(i)))\n",
    "\n",
    "print(\"Segmenting\")\n",
    "pcd = clouds[0]\n",
    "labels, norm = corr.segment(pcd, 0.005, 20, 100)\n",
    "inliers = np.where(labels != -1)[0]\n",
    "pcd = pcd.select_down_sample(inliers)\n",
    "labels = np.array([i for i in labels if i !=-1])\n",
    "T = utils.align_vectors(norm, np.array([0, 1, 0]))\n",
    "pcd = pcd.transform(T)\n",
    "pcd.translate(-pcd.get_center())\n",
    "dist = np.mean(np.asarray(pcd.points)[np.where(labels == labels.max())[0]], axis=0)\n",
    "pcd.translate(np.array([0,-1,0])*dist[1])\n",
    "\n",
    "matching(pcd,labels)"
   ]
  },
  {
   "cell_type": "code",
   "execution_count": null,
   "metadata": {},
   "outputs": [],
   "source": []
  }
 ],
 "metadata": {
  "kernelspec": {
   "display_name": "Python 3",
   "language": "python",
   "name": "python3"
  },
  "language_info": {
   "codemirror_mode": {
    "name": "ipython",
    "version": 3
   },
   "file_extension": ".py",
   "mimetype": "text/x-python",
   "name": "python",
   "nbconvert_exporter": "python",
   "pygments_lexer": "ipython3",
   "version": "3.7.3"
  }
 },
 "nbformat": 4,
 "nbformat_minor": 2
}
