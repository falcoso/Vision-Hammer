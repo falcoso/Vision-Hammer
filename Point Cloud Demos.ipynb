{
 "cells": [
  {
   "cell_type": "markdown",
   "metadata": {},
   "source": [
    "# Point Cloud Demonstrations\n",
    "\n",
    "## Registration\n",
    "\n",
    "Registers two point clouds with slight offset.\n"
   ]
  },
  {
   "cell_type": "code",
   "execution_count": 1,
   "metadata": {},
   "outputs": [],
   "source": [
    "import open3d as o3d\n",
    "import numpy as np\n",
    "import copy\n",
    "import random\n",
    "import copy\n",
    "import scipy.spatial\n",
    "import matplotlib.pyplot as plt\n",
    "from collections import Counter\n",
    "\n",
    "import utils\n",
    "import correspondance as corr"
   ]
  },
  {
   "cell_type": "code",
   "execution_count": null,
   "metadata": {},
   "outputs": [],
   "source": [
    "def draw_registration_result_original_color(source, target, transformation):\n",
    "    source_temp = copy.deepcopy(source)\n",
    "    source_temp.transform(transformation)\n",
    "    o3d.visualization.draw_geometries([source_temp, target])\n",
    "\n",
    "# load point clouds\n",
    "base = o3d.io.read_point_cloud(\"./Point Clouds/Cleaner/1.ply\")\n",
    "source = o3d.io.read_point_cloud(\"./Point Clouds/Cleaner/8.ply\")\n",
    "\n",
    "# get 4x4 transformation matrix\n",
    "trans = corr.register_clouds(base, source)\n",
    "\n",
    "# show original clouds\n",
    "o3d.visualization.draw_geometries([base, source])\n",
    "\n",
    "# show aligned clouds\n",
    "draw_registration_result_original_color(source, base, trans)\n"
   ]
  },
  {
   "cell_type": "markdown",
   "metadata": {},
   "source": [
    "## Normals of point cloud\n",
    "Shows the histogram of normals for the cloud. See utils module - running in notebook is much slower"
   ]
  },
  {
   "cell_type": "markdown",
   "metadata": {},
   "source": [
    "## Outlier removal\n",
    "Removes outliers and scatter artifacts from the pointcloud"
   ]
  },
  {
   "cell_type": "code",
   "execution_count": null,
   "metadata": {},
   "outputs": [],
   "source": [
    "cl, ind=utils.clean_cloud(\"./Point Clouds/Cleaner/1.ply\", view=True)"
   ]
  },
  {
   "cell_type": "markdown",
   "metadata": {},
   "source": [
    "## Cleaned and combined 8 clouds"
   ]
  },
  {
   "cell_type": "code",
   "execution_count": null,
   "metadata": {},
   "outputs": [],
   "source": [
    "base = o3d.io.read_point_cloud(\"./Point Clouds/combined_cloud_clean_cropped.ply\")\n",
    "o3d.visualization.draw_geometries([base])"
   ]
  },
  {
   "cell_type": "markdown",
   "metadata": {},
   "source": [
    "# Region Growing Segmentation\n",
    "Demonstrates region growing algorithm for downsampled cloud"
   ]
  },
  {
   "cell_type": "code",
   "execution_count": null,
   "metadata": {},
   "outputs": [],
   "source": [
    "cl = o3d.io.read_point_cloud(\"./Point Clouds/combined_cloud_clean_cropped.ply\")\n",
    "pcd = cl.voxel_down_sample(0.01)\n",
    "\n",
    "planes_list = corr.region_grow(pcd)\n",
    "\n",
    "for plane in planes_list:\n",
    "    colour = [random.uniform(0,1),random.uniform(0,1),random.uniform(0,1)]\n",
    "    for i in plane:\n",
    "        pcd.colors[i] = colour\n",
    "\n",
    "o3d.visualization.draw_geometries([pcd])\n",
    "\n",
    "# extract walls which is the largest object in the cloud\n",
    "\n",
    "walls = planes_list[np.argmax(np.array([len(i) for i in planes_list]))]\n",
    "walls = pcd.select_down_sample(walls)"
   ]
  },
  {
   "cell_type": "markdown",
   "metadata": {},
   "source": [
    "## Isolating each wall plane"
   ]
  },
  {
   "cell_type": "code",
   "execution_count": null,
   "metadata": {},
   "outputs": [],
   "source": [
    "planes_list, plane_normals = corr.region_grow(walls, 0.8, True)\n",
    "\n",
    "colours = [[1,0,0],[0,1,0],[0,0,1]]\n",
    "\n",
    "for plane, colour in zip(planes_list, colours):\n",
    "    for i in plane:\n",
    "        walls.colors[i] = colour\n",
    "\n",
    "o3d.visualization.draw_geometries([walls])\n",
    "\n",
    "print(plane_normals)\n"
   ]
  },
  {
   "cell_type": "markdown",
   "metadata": {},
   "source": [
    "## SVD of Walls\n",
    "Principle vectors pick out the normals of the wall"
   ]
  },
  {
   "cell_type": "code",
   "execution_count": null,
   "metadata": {},
   "outputs": [],
   "source": [
    "plane = planes_list[1]\n",
    "wall_cp = copy.deepcopy(walls)\n",
    "plane = wall_cp.select_down_sample(plane)\n",
    "points = np.asarray(plane.points)\n",
    "points -= np.mean(points, axis=0)\n",
    "u, s, v = np.linalg.svd(points)\n",
    "\n",
    "normal = np.matmul(np.linalg.pinv(points), np.ones(points.shape[0]))\n",
    "normal /= np.linalg.norm(normal)\n",
    "\n",
    "o3d.visualization.draw_geometries([plane, utils.create_vector_graph(v), utils.create_vector_graph([normal])])"
   ]
  },
  {
   "cell_type": "markdown",
   "metadata": {},
   "source": [
    "## Match to plane in full size cloud  (deprec)"
   ]
  },
  {
   "cell_type": "code",
   "execution_count": null,
   "metadata": {},
   "outputs": [],
   "source": [
    "# now match to the original full size point cloud\n",
    "\n",
    "cl.paint_uniform_color([0.5,0.5,0.5])\n",
    "print(plane_normals)\n",
    "for norm, colour in zip(plane_normals, colours):\n",
    "    dot_match = np.abs(1-np.asarray(cl.points).dot(norm))\n",
    "    for i in range(len(dot_match)):\n",
    "        if dot_match[i] <0.04:\n",
    "            cl.colors[i] = colour\n",
    "\n",
    "# add normals for clearer viewing\n",
    "if not cl.has_normals():\n",
    "    cl.estimate_normals(o3d.geometry.KDTreeSearchParamHybrid(radius=0.04 * 2, max_nn=30))\n",
    "o3d.visualization.draw_geometries([cl])"
   ]
  },
  {
   "cell_type": "markdown",
   "metadata": {},
   "source": [
    "## DBSCAN Methods (deprec)"
   ]
  },
  {
   "cell_type": "code",
   "execution_count": null,
   "metadata": {},
   "outputs": [],
   "source": [
    "pcd = o3d.io.read_point_cloud(\"./Point Clouds/combined_cloud_clean_cropped.ply\")\n",
    "pcd = pcd.voxel_down_sample(0.005)\n",
    "\n",
    "isolated= corr.remove_planes(pcd)\n",
    "\n",
    "labels = np.array(isolated.cluster_dbscan(eps=0.01, min_points=40, print_progress=True))\n",
    "colours = np.random.rand(labels.max()+1, 3)\n",
    "for i in range(len(labels)):\n",
    "    if labels[i] == -1:\n",
    "        isolated.colors[i] = [0,0,0]\n",
    "        continue\n",
    "    isolated.colors[i] = colours[labels[i]]\n",
    "outliers = np.where(labels == -1)[0]\n",
    "isolated = isolated.select_down_sample(outliers, invert=True)\n",
    "\n",
    "o3d.visualization.draw_geometries([isolated])\n"
   ]
  },
  {
   "cell_type": "markdown",
   "metadata": {},
   "source": [
    "## Merging model clouds\n"
   ]
  },
  {
   "cell_type": "code",
   "execution_count": null,
   "metadata": {},
   "outputs": [],
   "source": [
    "scale = 1\n",
    "\n",
    "cl1 = o3d.io.read_point_cloud(\"./Point Clouds/Field Clouds/Commander/1.3.ply\")\n",
    "cl1 = corr.isolate_model(cl1)\n",
    "plane1 = utils.create_origin_plane(100)\n",
    "cl1 += plane1\n",
    "cl1.scale(scale)\n",
    "\n",
    "for i in range(4):\n",
    "    print(i)\n",
    "    cl2 = o3d.io.read_point_cloud(\"./Point Clouds/Field Clouds/Commander/1.{}.ply\".format(i+2))\n",
    "    cl2 = corr.isolate_model(cl2)\n",
    "    temp_cl = cl2 + plane1\n",
    "    \n",
    "    temp_cl.scale(scale)\n",
    "    cl2.scale(scale)\n",
    "    print(\"Registering\")\n",
    "    tran = corr.register_clouds(cl1, temp_cl, voxel_radius=[0.01, 0.005, 0.0001], max_iter=[1000,1000,10000])\n",
    "    \n",
    "    cl2 = cl2.transform(tran)\n",
    "    cl1 += cl2\n",
    "    cl1.estimate_normals(o3d.geometry.KDTreeSearchParamHybrid(radius=0.04 * 2, max_nn=30))\n",
    "    \n",
    "o3d.visualization.draw_geometries([cl1])"
   ]
  },
  {
   "cell_type": "markdown",
   "metadata": {},
   "source": [
    "# Reference models"
   ]
  },
  {
   "cell_type": "code",
   "execution_count": null,
   "metadata": {},
   "outputs": [],
   "source": [
    "cmdr = o3d.io.read_point_cloud(\"./Point Clouds/Commander Ref.ply\")\n",
    "brdsd = o3d.io.read_point_cloud(\"./Point Clouds/Broadside Ref.ply\")\n",
    "o3d.visualization.draw_geometries([cmdr])\n",
    "o3d.visualization.draw_geometries([brdsd])"
   ]
  },
  {
   "cell_type": "markdown",
   "metadata": {},
   "source": [
    "# Recognising Models"
   ]
  },
  {
   "cell_type": "code",
   "execution_count": null,
   "metadata": {},
   "outputs": [],
   "source": [
    "isolated = o3d.io.read_point_cloud(\"isolated.ply\")\n",
    "o3d.visualization.draw_geometries([isolated])\n",
    "\n",
    "labels = np.array(isolated.cluster_dbscan(eps=0.01, min_points=40, print_progress=True))\n",
    "targets = []\n",
    "print(Counter(labels))\n",
    "for i in range(labels.max()+1):\n",
    "    obj = np.where(labels==i)[0]\n",
    "    obj = isolated.select_down_sample(obj)\n",
    "    obj = obj.translate(-obj.get_center())\n",
    "    targets.append(obj)\n",
    "    print(len(obj.points))\n",
    "    print(obj.get_oriented_bounding_box().volume())"
   ]
  },
  {
   "cell_type": "code",
   "execution_count": null,
   "metadata": {},
   "outputs": [],
   "source": [
    "# for i in targets:\n",
    "#     print(i.get_oriented_bounding_box().volume())\n",
    "cmdr = o3d.io.read_point_cloud(\"./Point Clouds/Commander Ref.ply\")\n",
    "brdsd = o3d.io.read_point_cloud(\"./Point Clouds/Broadside Ref.ply\")\n",
    "\n",
    "cmdr_vol = cmdr.get_oriented_bounding_box().volume()\n",
    "brdsd_vol = brdsd.get_oriented_bounding_box().volume()\n",
    "print(\"Ref volumes:\")\n",
    "print(\"Commander: {}\".format(cmdr.get_oriented_bounding_box().volume()))\n",
    "print(\"Broadside: {}\".format(brdsd.get_oriented_bounding_box().volume()))\n",
    "print(np.asarray(cmdr.get_oriented_bounding_box().get_box_points()))\n",
    "\n",
    "# print(\"Commander matching\")\n",
    "# for pcd in targets:\n",
    "#     vol = pcd.get_oriented_bounding_box().volume()\n",
    "#     if vol > 0.3*cmdr_vol and vol < cmdr_vol:\n",
    "#         o3d.visualization.draw_geometries([pcd])\n",
    "        \n",
    "# print(\"Broadside matching\")\n",
    "# for pcd in targets:\n",
    "#     vol = pcd.get_oriented_bounding_box().volume()\n",
    "#     if vol > 0.3*brdsd_vol and vol < brdsd_vol:\n",
    "#         o3d.visualization.draw_geometries([pcd])"
   ]
  },
  {
   "cell_type": "markdown",
   "metadata": {},
   "source": [
    "## Getting building axis"
   ]
  },
  {
   "cell_type": "code",
   "execution_count": null,
   "metadata": {},
   "outputs": [],
   "source": [
    "# use this function in the table scenes, it will produce for the buildings the normal histograms\n",
    "\n",
    "def matching(pcd, labels):\n",
    "    # define fp to reference models\n",
    "    refs = {}\n",
    "    refs[\"Commander\"] = o3d.io.read_point_cloud(\"./Point Clouds/Commander Ref.ply\")\n",
    "    refs[\"Broadside\"] = o3d.io.read_point_cloud(\"./Point Clouds/Broadside Ref.ply\")\n",
    "    ref_vols = np.array([i.get_oriented_bounding_box().volume() for j, i in refs.items()])\n",
    "\n",
    "    # go through all clusters that have been labelled but not classified as\n",
    "    # outliers or the table plane\n",
    "    for i in range(labels.max()):  # note that this will go up to but not include table\n",
    "        cluster = np.where(labels == i)[0]\n",
    "        cluster = pcd.select_down_sample(cluster)\n",
    "        vol = cluster.get_oriented_bounding_box().volume()\n",
    "\n",
    "        # first filter possible matches based on size\n",
    "        matches = []\n",
    "        if vol > np.max(ref_vols): # potentially item of scenery, cluster more finely\n",
    "            print(\"Scenery cluster\")\n",
    "            cluster.estimate_normals()\n",
    "            cluster.normalize_normals()\n",
    "            planes, normals = corr.region_grow(cluster, find_planes=True)\n",
    "            lens = np.array([len(i) for i in planes])\n",
    "            normals = np.multiply(lens, normals.T).T\n",
    "            vecs = utils.hist_normals(normals, bin_size=0.95)\n",
    "            vecs = utils.create_vector_graph(vecs)\n",
    "            vecs2 = utils.hist_normals(np.asarray(cluster.normals), bin_size=0.95)\n",
    "            vecs2 = utils.create_vector_graph(vecs2)\n",
    "            vecs2.paint_uniform_color([1,0,0])\n",
    "            o3d.visualization.draw_geometries([cluster, vecs, vecs2, cluster.get_axis_aligned_bounding_box()])\n",
    "\n",
    "                \n",
    "clouds = []\n",
    "for i in range(2,6):\n",
    "    clouds.append(o3d.io.read_point_cloud(\"./Point Clouds/Field Clouds/Board 2/7.{}.ply\".format(i)))\n",
    "\n",
    "print(\"Segmenting\")\n",
    "pcd = clouds[0]\n",
    "labels, norm = corr.segment(pcd)\n",
    "inliers = np.where(labels != -1)[0]\n",
    "pcd = pcd.select_down_sample(inliers)\n",
    "labels = np.array([i for i in labels if i !=-1])\n",
    "T = utils.align_vectors(norm, np.array([0, 1, 0]))\n",
    "pcd = pcd.transform(T)\n",
    "pcd.translate(-pcd.get_center())\n",
    "dist = np.mean(np.asarray(pcd.points)[np.where(labels == labels.max())[0]], axis=0)\n",
    "pcd.translate(np.array([0,-1,0])*dist[1])\n",
    "\n",
    "matching(pcd,labels)"
   ]
  },
  {
   "cell_type": "code",
   "execution_count": 2,
   "metadata": {},
   "outputs": [
    {
     "name": "stdout",
     "output_type": "stream",
     "text": [
      "Scenery cluster\n",
      "[0.46008882 0.44839531]\n",
      "[0.03690796 0.22645072]\n"
     ]
    },
    {
     "data": {
      "image/png": "[encoded data removed]",
      "text/plain": [
       "<Figure size 432x288 with 1 Axes>"
      ]
     },
     "metadata": {
      "needs_background": "light"
     },
     "output_type": "display_data"
    },
    {
     "name": "stdout",
     "output_type": "stream",
     "text": [
      "Scenery cluster\n",
      "[-2.84205135  0.08200741]\n",
      "[-0.04766075  0.04188941]\n"
     ]
    },
    {
     "data": {
      "image/png": "[encoded data removed]",
      "text/plain": [
       "<Figure size 432x288 with 1 Axes>"
      ]
     },
     "metadata": {
      "needs_background": "light"
     },
     "output_type": "display_data"
    },
    {
     "name": "stdout",
     "output_type": "stream",
     "text": [
      "Scenery cluster\n",
      "[3.78701657 7.43070234]\n",
      "[-0.14913921  0.07675924]\n"
     ]
    },
    {
     "data": {
      "image/png": "[encoded data removed]",
      "text/plain": [
       "<Figure size 432x288 with 1 Axes>"
      ]
     },
     "metadata": {
      "needs_background": "light"
     },
     "output_type": "display_data"
    },
    {
     "name": "stdout",
     "output_type": "stream",
     "text": [
      "Scenery cluster\n",
      "[-6.26391765  6.59981439]\n",
      "[0.05232185 0.09255491]\n"
     ]
    },
    {
     "data": {
      "image/png": "[encoded data removed]",
      "text/plain": [
       "<Figure size 432x288 with 1 Axes>"
      ]
     },
     "metadata": {
      "needs_background": "light"
     },
     "output_type": "display_data"
    }
   ],
   "source": [
    "%matplotlib inline\n",
    "\n",
    "def lines(x, n):\n",
    "    return 1/n[1] - n[0]*x/n[1]\n",
    "\n",
    "# This will plot the best fit lines for the corners\n",
    "def matching2(pcd, labels):\n",
    "    # define fp to reference models\n",
    "    refs = {}\n",
    "    refs[\"Commander\"] = o3d.io.read_point_cloud(\"./Point Clouds/Commander Ref.ply\")\n",
    "    refs[\"Broadside\"] = o3d.io.read_point_cloud(\"./Point Clouds/Broadside Ref.ply\")\n",
    "    ref_vols = np.array([i.get_oriented_bounding_box().volume() for j, i in refs.items()])\n",
    "\n",
    "    # go through all clusters that have been labelled but not classified as\n",
    "    # outliers or the table plane\n",
    "    for i in range(labels.max()):  # note that this will go up to but not include table\n",
    "        cluster = np.where(labels == i)[0]\n",
    "        cluster = pcd.select_down_sample(cluster)\n",
    "        vol = cluster.get_oriented_bounding_box().volume()\n",
    "\n",
    "        # first filter possible matches based on size\n",
    "        matches = []\n",
    "        if vol > np.max(ref_vols): # potentially item of scenery, cluster more finely\n",
    "            print(\"Scenery cluster\")\n",
    "            points = np.asarray(cluster.points)\n",
    "            points = np.delete(points, 1, axis=1)\n",
    "            points = np.concatenate((points, np.ones((points.shape[0], 1))), axis=1)\n",
    "            hull = scipy.spatial.ConvexHull(points[:,:2])\n",
    "            hull_pts = points[hull.vertices]\n",
    "            while len(hull_pts) < 50:\n",
    "                points = np.delete(points, hull.vertices, axis=0)\n",
    "                hull = scipy.spatial.ConvexHull(points[:,:2])\n",
    "                hull_pts =np.append(hull_pts, points[hull.vertices], axis=0)\n",
    "                x = o3d.geometry.PointCloud(o3d.utility.Vector3dVector(hull_pts)).voxel_down_sample(0.01)\n",
    "                hull_pts = np.asarray(x.points)\n",
    "            hull_pts = hull_pts[:,:2]\n",
    "\n",
    "            R = np.array([[0, -1],\n",
    "                          [1, 0]])\n",
    "            n, alpha, ind1, ind2, cost = utils.fit_corner2(hull_pts)\n",
    "            line_x = np.linspace(hull_pts[:, 0].min(), hull_pts[:, 0].max())\n",
    "            y1 = lines(line_x, n)\n",
    "            y2 = lines(line_x, R.dot(n)/alpha)\n",
    "#             plt.scatter(points[:,0], points[:,1])\n",
    "            for i in [ind1, ind2]:\n",
    "                plt.scatter(hull_pts[i, 0], hull_pts[i,1])\n",
    "            corner = np.sum(np.linalg.inv(np.array([n, R.dot(n)/alpha])), axis=1)\n",
    "            print(corner)\n",
    "            plt.scatter(corner[0], corner[1])\n",
    "            plt.plot(line_x, y1)\n",
    "            plt.plot(line_x, y2)\n",
    "            xrange = hull_pts[:,0].max()-hull_pts[:,0].min()\n",
    "            plt.xlim(hull_pts[:,0].min()-0.1*xrange, hull_pts[:,0].max()+0.1*xrange,)\n",
    "            yrange = hull_pts[:,1].max()-hull_pts[:,1].min()\n",
    "            plt.ylim(hull_pts[:,1].min()-0.1*yrange, hull_pts[:,1].max()+0.1*yrange,)\n",
    "            plt.tight_layout()\n",
    "            plt.show()\n",
    "\n",
    "\n",
    "clouds = []\n",
    "for i in range(2,6):\n",
    "    clouds.append(o3d.io.read_point_cloud(\"./Point Clouds/Field Clouds/Board 2/7.{}.ply\".format(i)))\n",
    "\n",
    "# for i in range(1,8):\n",
    "#     clouds.append(o3d.io.read_point_cloud(\"./Point Clouds/Field Clouds/Board 1/6.{}.ply\".format(i)))\n",
    "\n",
    "for pcd in clouds:\n",
    "    labels, norm = corr.segment(pcd)\n",
    "    R = utils.align_vectors(norm, np.array([0,1,0]))\n",
    "    pcd.transform(R)\n",
    "    pcd.translate(-pcd.get_center())\n",
    "    table = np.where(labels == labels.max())\n",
    "    points = np.asarray(pcd.points)\n",
    "    table_pts = points[table]\n",
    "    pcd.translate(np.array([0, -np.mean(table_pts, axis=1)[1], 0]))\n",
    "\n",
    "    matching2(pcd, labels)\n"
   ]
  },
  {
   "cell_type": "code",
   "execution_count": 2,
   "metadata": {},
   "outputs": [
    {
     "ename": "AttributeError",
     "evalue": "'numpy.float64' object has no attribute 'dot'",
     "output_type": "error",
     "traceback": [
      "\u001b[1;31m---------------------------------------------------------------------------\u001b[0m",
      "\u001b[1;31mAttributeError\u001b[0m                            Traceback (most recent call last)",
      "\u001b[1;32m<ipython-input-2-c103d3eb24b7>\u001b[0m in \u001b[0;36m<module>\u001b[1;34m\u001b[0m\n\u001b[0;32m     10\u001b[0m \u001b[0mpcd\u001b[0m \u001b[1;33m=\u001b[0m \u001b[0mclouds\u001b[0m\u001b[1;33m[\u001b[0m\u001b[1;36m1\u001b[0m\u001b[1;33m]\u001b[0m\u001b[1;33m\u001b[0m\u001b[1;33m\u001b[0m\u001b[0m\n\u001b[0;32m     11\u001b[0m \u001b[0mlabels\u001b[0m\u001b[1;33m,\u001b[0m \u001b[0mnorm\u001b[0m \u001b[1;33m=\u001b[0m \u001b[0mcorr\u001b[0m\u001b[1;33m.\u001b[0m\u001b[0msegment\u001b[0m\u001b[1;33m(\u001b[0m\u001b[0mpcd\u001b[0m\u001b[1;33m)\u001b[0m\u001b[1;33m\u001b[0m\u001b[1;33m\u001b[0m\u001b[0m\n\u001b[1;32m---> 12\u001b[1;33m \u001b[0mclouds\u001b[0m\u001b[1;33m[\u001b[0m\u001b[1;36m1\u001b[0m\u001b[1;33m]\u001b[0m \u001b[1;33m=\u001b[0m \u001b[0mcorr\u001b[0m\u001b[1;33m.\u001b[0m\u001b[0mbuilding_align\u001b[0m\u001b[1;33m(\u001b[0m\u001b[0mpcd\u001b[0m\u001b[1;33m,\u001b[0m \u001b[0mlabels\u001b[0m\u001b[1;33m,\u001b[0m \u001b[0mnorm\u001b[0m\u001b[1;33m)\u001b[0m\u001b[1;33m\u001b[0m\u001b[1;33m\u001b[0m\u001b[0m\n\u001b[0m\u001b[0;32m     13\u001b[0m \u001b[0mbase\u001b[0m \u001b[1;33m=\u001b[0m \u001b[0mclouds\u001b[0m\u001b[1;33m[\u001b[0m\u001b[1;36m1\u001b[0m\u001b[1;33m]\u001b[0m\u001b[1;33m.\u001b[0m\u001b[0mselect_down_sample\u001b[0m\u001b[1;33m(\u001b[0m\u001b[0mnp\u001b[0m\u001b[1;33m.\u001b[0m\u001b[0mwhere\u001b[0m\u001b[1;33m(\u001b[0m\u001b[0mlabels\u001b[0m \u001b[1;33m!=\u001b[0m \u001b[1;33m-\u001b[0m\u001b[1;36m1\u001b[0m\u001b[1;33m)\u001b[0m\u001b[1;33m[\u001b[0m\u001b[1;36m0\u001b[0m\u001b[1;33m]\u001b[0m\u001b[1;33m)\u001b[0m\u001b[1;33m\u001b[0m\u001b[1;33m\u001b[0m\u001b[0m\n\u001b[0;32m     14\u001b[0m \u001b[1;33m\u001b[0m\u001b[0m\n",
      "\u001b[1;32mD:\\IIB Project\\correspondance.py\u001b[0m in \u001b[0;36mbuilding_align\u001b[1;34m(pcd, labels, norm)\u001b[0m\n\u001b[0;32m    471\u001b[0m \u001b[1;33m\u001b[0m\u001b[0m\n\u001b[0;32m    472\u001b[0m     \u001b[1;31m# ensures vectors point out from centroid of corner\u001b[0m\u001b[1;33m\u001b[0m\u001b[1;33m\u001b[0m\u001b[1;33m\u001b[0m\u001b[0m\n\u001b[1;32m--> 473\u001b[1;33m     \u001b[1;32mif\u001b[0m \u001b[0mhull_pts\u001b[0m\u001b[1;33m[\u001b[0m\u001b[0mind1\u001b[0m\u001b[1;33m]\u001b[0m\u001b[1;33m.\u001b[0m\u001b[0mdot\u001b[0m\u001b[1;33m(\u001b[0m\u001b[0mn\u001b[0m\u001b[1;33m)\u001b[0m \u001b[1;33m<\u001b[0m \u001b[0mnp\u001b[0m\u001b[1;33m.\u001b[0m\u001b[0mmean\u001b[0m\u001b[1;33m(\u001b[0m\u001b[0mpoints\u001b[0m\u001b[1;33m)\u001b[0m\u001b[1;33m.\u001b[0m\u001b[0mdot\u001b[0m\u001b[1;33m(\u001b[0m\u001b[0mn\u001b[0m\u001b[1;33m)\u001b[0m\u001b[1;33m:\u001b[0m\u001b[1;33m\u001b[0m\u001b[1;33m\u001b[0m\u001b[0m\n\u001b[0m\u001b[0;32m    474\u001b[0m         \u001b[0mn\u001b[0m \u001b[1;33m*=\u001b[0m \u001b[1;33m-\u001b[0m\u001b[1;36m1\u001b[0m\u001b[1;33m\u001b[0m\u001b[1;33m\u001b[0m\u001b[0m\n\u001b[0;32m    475\u001b[0m     \u001b[0mn\u001b[0m \u001b[1;33m=\u001b[0m \u001b[0mnp\u001b[0m\u001b[1;33m.\u001b[0m\u001b[0marray\u001b[0m\u001b[1;33m(\u001b[0m\u001b[1;33m[\u001b[0m\u001b[0mn\u001b[0m\u001b[1;33m[\u001b[0m\u001b[1;36m0\u001b[0m\u001b[1;33m]\u001b[0m\u001b[1;33m,\u001b[0m \u001b[1;36m0\u001b[0m\u001b[1;33m,\u001b[0m \u001b[0mn\u001b[0m\u001b[1;33m[\u001b[0m\u001b[1;36m1\u001b[0m\u001b[1;33m]\u001b[0m\u001b[1;33m]\u001b[0m\u001b[1;33m)\u001b[0m\u001b[1;33m\u001b[0m\u001b[1;33m\u001b[0m\u001b[0m\n",
      "\u001b[1;31mAttributeError\u001b[0m: 'numpy.float64' object has no attribute 'dot'"
     ]
    }
   ],
   "source": [
    "clouds = []\n",
    "for i in range(2,6):\n",
    "    clouds.append(o3d.io.read_point_cloud(\"./Point Clouds/Field Clouds/Board 2/7.{}.ply\".format(i)))\n",
    "\n",
    "build_ref = o3d.io.read_triangle_mesh(\"./Point Clouds/Building Ref.ply\")\n",
    "build_ref = build_ref.compute_triangle_normals()\n",
    "\n",
    "# for i in range(1,8):\n",
    "#     clouds.append(o3d.io.read_point_cloud(\"./Point Clouds/Field Clouds/Board 1/6.{}.ply\".format(i)))\n",
    "pcd = clouds[1]\n",
    "labels, norm = corr.segment(pcd)\n",
    "clouds[1] = corr.building_align(pcd, labels, norm)\n",
    "base = clouds[1].select_down_sample(np.where(labels != -1)[0])\n",
    "\n",
    "for i in [0,2, 3]:\n",
    "    pcd = clouds[i]\n",
    "    labels, norm = corr.segment(pcd)\n",
    "    clouds[i] = corr.building_align(pcd, labels, norm)\n",
    "    clouds[i] = pcd.select_down_sample(np.where(labels!=-1)[0])\n",
    "\n",
    "o3d.visualization.draw_geometries(clouds)\n",
    "\n",
    "for i in [2 ,3, 0]:\n",
    "    T = corr.register_clouds(base, clouds[i])\n",
    "    clouds[i].transform(T)\n",
    "    base += clouds[i]\n",
    "\n",
    "base.estimate_normals()\n",
    "base = base.voxel_down_sample(0.003)\n",
    "labels, norm = corr.segment(base)\n",
    "# base = utils.colour_labels(base, labels)\n",
    "\n",
    "for i in range(labels.max()):\n",
    "    cluster = np.where(labels == i)[0]\n",
    "    cluster = base.select_down_sample(cluster)\n",
    "    points = np.asarray(cluster.points)\n",
    "    points = np.delete(points, 1, axis=1)\n",
    "    plt.scatter(points[:,0], points[:,1])\n",
    "\n",
    "building = 0\n",
    "max_vol = 0\n",
    "for i in range(labels.max()):  # note that this will go up to but not include table\n",
    "    cluster = np.where(labels == i)[0]\n",
    "    cluster = base.select_down_sample(cluster)\n",
    "    vol = cluster.get_oriented_bounding_box().volume()\n",
    "    # building will be largest cluster\n",
    "    if vol > max_vol:\n",
    "        max_vol = vol\n",
    "        building = cluster\n",
    "\n",
    "base = corr.building_align(base, labels, norm)\n",
    "print(np.cbrt(max_vol/ build_ref.get_oriented_bounding_box().volume()))\n",
    "build_ref.scale(np.cbrt(max_vol/ build_ref.get_oriented_bounding_box().volume()), center=False)\n",
    "o3d.visualization.draw_geometries([building, build_ref])\n",
    "o3d.visualization.draw_geometries([base.select_down_sample(np.where(labels != -1)[0])])"
   ]
  },
  {
   "cell_type": "code",
   "execution_count": null,
   "metadata": {},
   "outputs": [],
   "source": []
  }
 ],
 "metadata": {
  "kernelspec": {
   "display_name": "Python 3",
   "language": "python",
   "name": "python3"
  },
  "language_info": {
   "codemirror_mode": {
    "name": "ipython",
    "version": 3
   },
   "file_extension": ".py",
   "mimetype": "text/x-python",
   "name": "python",
   "nbconvert_exporter": "python",
   "pygments_lexer": "ipython3",
   "version": "3.7.3"
  }
 },
 "nbformat": 4,
 "nbformat_minor": 2
}
