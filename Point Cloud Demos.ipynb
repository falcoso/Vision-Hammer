{
 "cells": [
  {
   "cell_type": "markdown",
   "metadata": {},
   "source": [
    "# Point Cloud Demonstrations\n",
    "\n",
    "## Registration\n",
    "\n",
    "Registers two point clouds with slight offset.\n"
   ]
  },
  {
   "cell_type": "code",
   "execution_count": 1,
   "metadata": {},
   "outputs": [],
   "source": [
    "import open3d as o3d\n",
    "import numpy as np\n",
    "import copy\n",
    "import random\n",
    "import copy\n",
    "from collections import Counter\n",
    "\n",
    "import utils"
   ]
  },
  {
   "cell_type": "code",
   "execution_count": 2,
   "metadata": {},
   "outputs": [],
   "source": [
    "def draw_registration_result_original_color(source, target, transformation):\n",
    "    source_temp = copy.deepcopy(source)\n",
    "    source_temp.transform(transformation)\n",
    "    o3d.visualization.draw_geometries([source_temp, target])\n",
    "\n",
    "# load point clouds\n",
    "base = o3d.io.read_point_cloud(\"./Point Clouds/Cleaner/1.ply\")\n",
    "source = o3d.io.read_point_cloud(\"./Point Clouds/Cleaner/8.ply\")\n",
    "\n",
    "# get 4x4 transformation matrix\n",
    "trans = utils.register_clouds(base, source)\n",
    "\n",
    "# show original clouds\n",
    "o3d.visualization.draw_geometries([base, source])\n",
    "\n",
    "# show aligned clouds\n",
    "draw_registration_result_original_color(source, base, trans)\n"
   ]
  },
  {
   "cell_type": "markdown",
   "metadata": {},
   "source": [
    "## Normals of point cloud\n",
    "Shows the histogram of normals for the cloud. See utils module - running in notebook is much slower"
   ]
  },
  {
   "cell_type": "markdown",
   "metadata": {},
   "source": [
    "## Outlier removal\n",
    "Removes outliers and scatter artifacts from the pointcloud"
   ]
  },
  {
   "cell_type": "code",
   "execution_count": 3,
   "metadata": {},
   "outputs": [],
   "source": [
    "cl, ind=utils.clean_cloud(\"./Point Clouds/Cleaner/1.ply\", view=True)"
   ]
  },
  {
   "cell_type": "markdown",
   "metadata": {},
   "source": [
    "## Cleaned and combined 8 clouds"
   ]
  },
  {
   "cell_type": "code",
   "execution_count": 4,
   "metadata": {},
   "outputs": [],
   "source": [
    "base = o3d.io.read_point_cloud(\"./Point Clouds/combined_cloud_clean_cropped.ply\")\n",
    "o3d.visualization.draw_geometries([base])"
   ]
  },
  {
   "cell_type": "markdown",
   "metadata": {},
   "source": [
    "# Region Growing Segmentation\n",
    "Demonstrates region growing algorithm for downsampled cloud"
   ]
  },
  {
   "cell_type": "code",
   "execution_count": 5,
   "metadata": {},
   "outputs": [
    {
     "name": "stderr",
     "output_type": "stream",
     "text": [
      "100%|█████████████████████████████████████████████████████████████████████████| 12369/12369 [00:00<00:00, 13093.41it/s]\n"
     ]
    }
   ],
   "source": [
    "cl = o3d.io.read_point_cloud(\"./Point Clouds/combined_cloud_clean_cropped.ply\")\n",
    "pcd = cl.voxel_down_sample(0.01)\n",
    "\n",
    "planes_list = utils.region_grow(pcd)\n",
    "\n",
    "for plane in planes_list:\n",
    "    colour = [random.uniform(0,1),random.uniform(0,1),random.uniform(0,1)]\n",
    "    for i in plane:\n",
    "        pcd.colors[i] = colour\n",
    "\n",
    "o3d.visualization.draw_geometries([pcd])\n",
    "\n",
    "# extract walls which is the largest object in the cloud\n",
    "\n",
    "walls = planes_list[np.argmax(np.array([len(i) for i in planes_list]))]\n",
    "walls = pcd.select_down_sample(walls)"
   ]
  },
  {
   "cell_type": "markdown",
   "metadata": {},
   "source": [
    "## Isolating each wall plane"
   ]
  },
  {
   "cell_type": "code",
   "execution_count": 6,
   "metadata": {},
   "outputs": [
    {
     "name": "stderr",
     "output_type": "stream",
     "text": [
      "100%|█████████████████████████████████████████████████████████████████████████| 12093/12093 [00:01<00:00, 10880.09it/s]\n"
     ]
    },
    {
     "name": "stdout",
     "output_type": "stream",
     "text": [
      "[[ 0.17245426 -4.53954361 -1.09291561]\n",
      " [ 0.9516822   0.27497732 -0.91953616]\n",
      " [-0.94387216  0.23362274 -1.0142764 ]\n",
      " [ 4.56798997  1.17399931 -4.63883334]\n",
      " [ 0.78644877 -3.4457568  -1.30035592]\n",
      " [ 0.04726439  0.30964345 -0.95462322]\n",
      " [-0.60921399  0.28785351 -0.99517517]\n",
      " [ 0.91202474 -0.08835733 -0.9334993 ]\n",
      " [-0.36254469 -5.91573462 -1.08470066]\n",
      " [-0.87698841 -0.13024716 -1.0293668 ]\n",
      " [ 3.2265569   0.2833897  -0.7978511 ]\n",
      " [ 0.06674229  0.16177911 -0.98236141]\n",
      " [ 0.78531629 -1.85287834 -0.99546295]\n",
      " [ 0.04191948 -0.07136195 -1.40626096]\n",
      " [ 0.05052374  0.13315772 -0.9816977 ]\n",
      " [ 0.06982907 -0.08652763 -1.41994162]\n",
      " [ 0.10927756 -0.03033231 -1.27331719]]\n"
     ]
    }
   ],
   "source": [
    "planes_list = utils.region_grow(walls, 0.8, True)\n",
    "\n",
    "colours = [[1,0,0],[0,1,0],[0,0,1]]\n",
    "\n",
    "for plane, colour in zip(planes_list, colours):\n",
    "    for i in plane:\n",
    "        walls.colors[i] = colour\n",
    "\n",
    "o3d.visualization.draw_geometries([walls])\n",
    "\n",
    "# get normals for each plane\n",
    "plane_normals = []\n",
    "for plane in planes_list:\n",
    "    # make a copy otherwise points a deleted from selection\n",
    "    wall_cp = copy.deepcopy(walls)\n",
    "    plane_points = np.asarray(wall_cp.select_down_sample(plane).points)\n",
    "    \n",
    "    pseudoinverse = np.linalg.pinv(plane_points.T)\n",
    "    plane_normals.append(pseudoinverse.T.dot(np.ones(plane_points.shape[0])))\n",
    "    \n",
    "plane_normals = np.array(plane_normals)\n",
    "print(plane_normals)\n"
   ]
  },
  {
   "cell_type": "markdown",
   "metadata": {},
   "source": [
    "## SVD of Walls\n",
    "Principle vectors pick out the normals of the wall"
   ]
  },
  {
   "cell_type": "code",
   "execution_count": 7,
   "metadata": {},
   "outputs": [],
   "source": [
    "plane = planes_list[1]\n",
    "wall_cp = copy.deepcopy(walls)\n",
    "plane = wall_cp.select_down_sample(plane)\n",
    "points = np.asarray(plane.points)\n",
    "points -= np.mean(points, axis=0)\n",
    "u, s, v = np.linalg.svd(points)\n",
    "\n",
    "normal = np.matmul(np.linalg.pinv(points), np.ones(points.shape[0]))\n",
    "normal /= np.linalg.norm(normal)\n",
    "\n",
    "o3d.visualization.draw_geometries([plane, utils.create_vector_graph(v), utils.create_vector_graph([normal])])"
   ]
  },
  {
   "cell_type": "markdown",
   "metadata": {},
   "source": [
    "## Match to plane in full size cloud"
   ]
  },
  {
   "cell_type": "code",
   "execution_count": 8,
   "metadata": {},
   "outputs": [
    {
     "name": "stdout",
     "output_type": "stream",
     "text": [
      "[[ 0.17245426 -4.53954361 -1.09291561]\n",
      " [ 0.9516822   0.27497732 -0.91953616]\n",
      " [-0.94387216  0.23362274 -1.0142764 ]\n",
      " [ 4.56798997  1.17399931 -4.63883334]\n",
      " [ 0.78644877 -3.4457568  -1.30035592]\n",
      " [ 0.04726439  0.30964345 -0.95462322]\n",
      " [-0.60921399  0.28785351 -0.99517517]\n",
      " [ 0.91202474 -0.08835733 -0.9334993 ]\n",
      " [-0.36254469 -5.91573462 -1.08470066]\n",
      " [-0.87698841 -0.13024716 -1.0293668 ]\n",
      " [ 3.2265569   0.2833897  -0.7978511 ]\n",
      " [ 0.06674229  0.16177911 -0.98236141]\n",
      " [ 0.78531629 -1.85287834 -0.99546295]\n",
      " [ 0.04191948 -0.07136195 -1.40626096]\n",
      " [ 0.05052374  0.13315772 -0.9816977 ]\n",
      " [ 0.06982907 -0.08652763 -1.41994162]\n",
      " [ 0.10927756 -0.03033231 -1.27331719]]\n"
     ]
    }
   ],
   "source": [
    "# now match to the original full size point cloud\n",
    "\n",
    "cl.paint_uniform_color([0.5,0.5,0.5])\n",
    "print(plane_normals)\n",
    "for norm, colour in zip(plane_normals, colours):\n",
    "    dot_match = np.abs(1-np.asarray(cl.points).dot(norm))\n",
    "    for i in range(len(dot_match)):\n",
    "        if dot_match[i] <0.04:\n",
    "            cl.colors[i] = colour\n",
    "\n",
    "# add normals for clearer viewing\n",
    "if not cl.has_normals():\n",
    "    cl.estimate_normals(o3d.geometry.KDTreeSearchParamHybrid(radius=0.04 * 2, max_nn=30))\n",
    "o3d.visualization.draw_geometries([cl])"
   ]
  },
  {
   "cell_type": "markdown",
   "metadata": {},
   "source": [
    "## DBSCAN Methods"
   ]
  },
  {
   "cell_type": "code",
   "execution_count": 3,
   "metadata": {},
   "outputs": [
    {
     "name": "stdout",
     "output_type": "stream",
     "text": [
      "Segmenting Planes...\n"
     ]
    },
    {
     "name": "stderr",
     "output_type": "stream",
     "text": [
      "100%|██████████████████████████████████████████████████████████████████████████| 54092/54092 [00:05<00:00, 9909.86it/s]\n"
     ]
    },
    {
     "name": "stdout",
     "output_type": "stream",
     "text": [
      "Processing Planes\n"
     ]
    }
   ],
   "source": [
    "pcd = o3d.io.read_point_cloud(\"./Point Clouds/combined_cloud_clean_cropped.ply\")\n",
    "pcd = pcd.voxel_down_sample(0.005)\n",
    "\n",
    "isolated = utils.remove_planes(pcd)\n",
    "\n",
    "labels = np.array(isolated.cluster_dbscan(eps=0.01, min_points=40, print_progress=True))\n",
    "colours = np.random.rand(labels.max()+1, 3)\n",
    "for i in range(len(labels)):\n",
    "    if labels[i] == -1:\n",
    "        isolated.colors[i] = [0,0,0]\n",
    "        continue\n",
    "    isolated.colors[i] = colours[labels[i]]\n",
    "outliers = np.where(labels == -1)[0]\n",
    "isolated = isolated.select_down_sample(outliers, invert=True)\n",
    "\n",
    "o3d.visualization.draw_geometries([isolated])\n"
   ]
  },
  {
   "cell_type": "markdown",
   "metadata": {},
   "source": [
    "## Merging model clouds\n"
   ]
  },
  {
   "cell_type": "code",
   "execution_count": 9,
   "metadata": {},
   "outputs": [
    {
     "name": "stderr",
     "output_type": "stream",
     "text": [
      "100%|███████████████████████████████████████████████████████████████████████████| 2546/2546 [00:00<00:00, 10252.22it/s]\n"
     ]
    },
    {
     "name": "stdout",
     "output_type": "stream",
     "text": [
      "0\n"
     ]
    },
    {
     "name": "stderr",
     "output_type": "stream",
     "text": [
      "100%|███████████████████████████████████████████████████████████████████████████| 2477/2477 [00:00<00:00, 11218.31it/s]\n"
     ]
    },
    {
     "name": "stdout",
     "output_type": "stream",
     "text": [
      "Registering\n",
      "1\n"
     ]
    },
    {
     "name": "stderr",
     "output_type": "stream",
     "text": [
      "100%|███████████████████████████████████████████████████████████████████████████| 2546/2546 [00:00<00:00, 10406.70it/s]\n"
     ]
    },
    {
     "name": "stdout",
     "output_type": "stream",
     "text": [
      "Registering\n",
      "2\n"
     ]
    },
    {
     "name": "stderr",
     "output_type": "stream",
     "text": [
      "100%|███████████████████████████████████████████████████████████████████████████| 2529/2529 [00:00<00:00, 10697.14it/s]\n"
     ]
    },
    {
     "name": "stdout",
     "output_type": "stream",
     "text": [
      "Registering\n",
      "3\n"
     ]
    },
    {
     "name": "stderr",
     "output_type": "stream",
     "text": [
      "100%|███████████████████████████████████████████████████████████████████████████| 2499/2499 [00:00<00:00, 10396.80it/s]\n"
     ]
    },
    {
     "name": "stdout",
     "output_type": "stream",
     "text": [
      "Registering\n"
     ]
    }
   ],
   "source": [
    "scale = 1\n",
    "\n",
    "cl1 = o3d.io.read_point_cloud(\"./Point Clouds/Field Clouds/Commander/1.3.ply\")\n",
    "cl1 = utils.isolate_model(cl1)\n",
    "plane1 = utils.create_origin_plane(100)\n",
    "cl1 += plane1\n",
    "cl1.scale(scale)\n",
    "\n",
    "for i in range(4):\n",
    "    print(i)\n",
    "    cl2 = o3d.io.read_point_cloud(\"./Point Clouds/Field Clouds/Commander/1.{}.ply\".format(i+2))\n",
    "    cl2 = utils.isolate_model(cl2)\n",
    "    temp_cl = cl2 + plane1\n",
    "    \n",
    "    temp_cl.scale(scale)\n",
    "    cl2.scale(scale)\n",
    "    print(\"Registering\")\n",
    "    tran = utils.register_clouds(cl1, temp_cl, voxel_radius=[0.01, 0.005, 0.0001], max_iter=[1000,1000,10000])\n",
    "    \n",
    "    cl2 = cl2.transform(tran)\n",
    "    cl1 += cl2\n",
    "    cl1.estimate_normals(o3d.geometry.KDTreeSearchParamHybrid(radius=0.04 * 2, max_nn=30))\n",
    "    \n",
    "o3d.visualization.draw_geometries([cl1])"
   ]
  },
  {
   "cell_type": "markdown",
   "metadata": {},
   "source": [
    "# Reference models"
   ]
  },
  {
   "cell_type": "code",
   "execution_count": 10,
   "metadata": {},
   "outputs": [],
   "source": [
    "cmdr = o3d.io.read_point_cloud(\"./Point Clouds/Commander Ref.ply\")\n",
    "brdsd = o3d.io.read_point_cloud(\"./Point Clouds/Broadside Ref.ply\")\n",
    "o3d.visualization.draw_geometries([cmdr])\n",
    "o3d.visualization.draw_geometries([brdsd])"
   ]
  },
  {
   "cell_type": "markdown",
   "metadata": {},
   "source": [
    "# Recognising Models"
   ]
  },
  {
   "cell_type": "code",
   "execution_count": 4,
   "metadata": {},
   "outputs": [
    {
     "name": "stdout",
     "output_type": "stream",
     "text": [
      "Counter({1: 1690, 0: 1558, -1: 494, 3: 370, 2: 293})\n",
      "1558\n",
      "0.00019391842167418354\n",
      "1690\n",
      "0.0002557404839896712\n",
      "293\n",
      "2.5114991737324598e-05\n",
      "370\n",
      "3.814884067853866e-05\n"
     ]
    }
   ],
   "source": [
    "isolated = o3d.io.read_point_cloud(\"isolated.ply\")\n",
    "o3d.visualization.draw_geometries([isolated])\n",
    "\n",
    "labels = np.array(isolated.cluster_dbscan(eps=0.01, min_points=40, print_progress=True))\n",
    "targets = []\n",
    "print(Counter(labels))\n",
    "for i in range(labels.max()+1):\n",
    "    obj = np.where(labels==i)[0]\n",
    "    obj = isolated.select_down_sample(obj)\n",
    "    obj = obj.translate(-obj.get_center())\n",
    "    targets.append(obj)\n",
    "    print(len(obj.points))\n",
    "    print(obj.get_oriented_bounding_box().volume())"
   ]
  },
  {
   "cell_type": "code",
   "execution_count": 5,
   "metadata": {},
   "outputs": [
    {
     "name": "stdout",
     "output_type": "stream",
     "text": [
      "0.00019391842167418354\n",
      "0.0002557404839896712\n",
      "2.5114991737324598e-05\n",
      "3.814884067853866e-05\n",
      "Ref volumes:\n",
      "Commander: 0.0003652094541903232\n",
      "Broadside: 0.0005321971764080778\n",
      "Commander matching\n",
      "Broadside matching\n"
     ]
    }
   ],
   "source": [
    "for i in targets:\n",
    "    print(i.get_oriented_bounding_box().volume())\n",
    "cmdr = o3d.io.read_point_cloud(\"./Point Clouds/Commander Ref.ply\")\n",
    "brdsd = o3d.io.read_point_cloud(\"./Point Clouds/Broadside Ref.ply\")\n",
    "\n",
    "cmdr_vol = cmdr.get_oriented_bounding_box().volume()\n",
    "brdsd_vol = brdsd.get_oriented_bounding_box().volume()\n",
    "print(\"Ref volumes:\")\n",
    "print(\"Commander: {}\".format(cmdr.get_oriented_bounding_box().volume()))\n",
    "print(\"Broadside: {}\".format(brdsd.get_oriented_bounding_box().volume()))\n",
    "\n",
    "print(\"Commander matching\")\n",
    "for pcd in targets:\n",
    "    vol = pcd.get_oriented_bounding_box().volume()\n",
    "    if vol > 0.3*cmdr_vol and vol < cmdr_vol:\n",
    "        o3d.visualization.draw_geometries([pcd])\n",
    "        \n",
    "print(\"Broadside matching\")\n",
    "for pcd in targets:\n",
    "    vol = pcd.get_oriented_bounding_box().volume()\n",
    "    if vol > 0.3*brdsd_vol and vol < brdsd_vol:\n",
    "        o3d.visualization.draw_geometries([pcd])"
   ]
  },
  {
   "cell_type": "code",
   "execution_count": null,
   "metadata": {},
   "outputs": [],
   "source": []
  }
 ],
 "metadata": {
  "kernelspec": {
   "display_name": "Python 3",
   "language": "python",
   "name": "python3"
  },
  "language_info": {
   "codemirror_mode": {
    "name": "ipython",
    "version": 3
   },
   "file_extension": ".py",
   "mimetype": "text/x-python",
   "name": "python",
   "nbconvert_exporter": "python",
   "pygments_lexer": "ipython3",
   "version": "3.7.3"
  }
 },
 "nbformat": 4,
 "nbformat_minor": 2
}
