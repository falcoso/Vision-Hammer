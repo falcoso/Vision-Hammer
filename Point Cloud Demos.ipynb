{
 "cells": [
  {
   "cell_type": "markdown",
   "metadata": {},
   "source": [
    "# Point Cloud Demonstrations\n",
    "\n",
    "## Registration\n",
    "\n",
    "Registers two point clouds with slight offset.\n"
   ]
  },
  {
   "cell_type": "code",
   "execution_count": 1,
   "metadata": {},
   "outputs": [],
   "source": [
    "import open3d as o3d\n",
    "import numpy as np\n",
    "import copy\n",
    "import random\n",
    "\n",
    "import utils"
   ]
  },
  {
   "cell_type": "code",
   "execution_count": null,
   "metadata": {},
   "outputs": [],
   "source": [
    "def draw_registration_result_original_color(source, target, transformation):\n",
    "    source_temp = copy.deepcopy(source)\n",
    "    source_temp.transform(transformation)\n",
    "    o3d.visualization.draw_geometries([source_temp, target])\n",
    "\n",
    "# load point clouds\n",
    "base = o3d.io.read_point_cloud(\"./Point Clouds/Cleaner/1.ply\")\n",
    "source = o3d.io.read_point_cloud(\"./Point Clouds/Cleaner/8.ply\")\n",
    "\n",
    "# get 4x4 transformation matrix\n",
    "trans = utils.register_clouds(base, source)\n",
    "\n",
    "# show original clouds\n",
    "o3d.visualization.draw_geometries([base, source])\n",
    "\n",
    "# show aligned clouds\n",
    "draw_registration_result_original_color(source, base, trans)\n"
   ]
  },
  {
   "cell_type": "markdown",
   "metadata": {},
   "source": [
    "## Normals of point cloud\n",
    "Shows the histogram of normals for the cloud. See utils module - running in notebook is much slower"
   ]
  },
  {
   "cell_type": "markdown",
   "metadata": {},
   "source": [
    "## Outlier removal\n",
    "Removes outliers and scatter artifacts from the pointcloud"
   ]
  },
  {
   "cell_type": "code",
   "execution_count": null,
   "metadata": {},
   "outputs": [],
   "source": [
    "cl, ind=utils.clean_cloud(\"./Point Clouds/Cleaner/1.ply\", view=True)"
   ]
  },
  {
   "cell_type": "markdown",
   "metadata": {},
   "source": [
    "## Cleaned and combined 8 clouds"
   ]
  },
  {
   "cell_type": "code",
   "execution_count": null,
   "metadata": {},
   "outputs": [],
   "source": [
    "base = o3d.io.read_point_cloud(\"./Point Clouds/combined_cloud_clean.ply\")\n",
    "o3d.visualization.draw_geometries([base])"
   ]
  },
  {
   "cell_type": "markdown",
   "metadata": {},
   "source": [
    "# Region Growing Segmentation\n",
    "Demonstrates region growing algorithm for downsampled cloud"
   ]
  },
  {
   "cell_type": "code",
   "execution_count": 8,
   "metadata": {},
   "outputs": [],
   "source": [
    "cl = o3d.io.read_point_cloud(\"./Point Clouds/combined_cloud_clean.ply\")\n",
    "pcd = cl.voxel_down_sample(0.01)\n",
    "\n",
    "planes_list = utils.region_grow(pcd)\n",
    "\n",
    "for plane in planes_list:\n",
    "    colour = [random.uniform(0,1),random.uniform(0,1),random.uniform(0,1)]\n",
    "    for i in plane:\n",
    "        pcd.colors[i] = colour\n",
    "\n",
    "o3d.visualization.draw_geometries([pcd])\n",
    "\n",
    "# extract walls which is the largest object in the cloud\n",
    "\n",
    "walls = planes_list[np.argmax(np.array([len(i) for i in planes_list]))]\n",
    "walls = pcd.select_down_sample(walls)"
   ]
  },
  {
   "cell_type": "markdown",
   "metadata": {},
   "source": [
    "## Isolating each wall plane"
   ]
  },
  {
   "cell_type": "code",
   "execution_count": 15,
   "metadata": {},
   "outputs": [
    {
     "name": "stdout",
     "output_type": "stream",
     "text": [
      "[[ 0.95297908  0.27252682 -0.91992971]\n",
      " [ 0.156436   -4.40440385 -1.11348369]\n",
      " [-0.94290001  0.22964552 -1.01562925]]\n"
     ]
    }
   ],
   "source": [
    "planes_list = utils.region_grow(walls, 0.8, True)\n",
    "\n",
    "colours = [[1,0,0],[0,1,0],[0,0,1]]\n",
    "\n",
    "for plane, colour in zip(planes_list, colours):\n",
    "    for i in plane:\n",
    "        walls.colors[i] = colour\n",
    "\n",
    "o3d.visualization.draw_geometries([walls])\n",
    "\n",
    "# get normals for each plane\n",
    "plane_normals = []\n",
    "for plane in planes_list:\n",
    "    # make a copy otherwise points a deleted from selection\n",
    "    wall_cp = copy.deepcopy(walls)\n",
    "    plane_points = np.asarray(wall_cp.select_down_sample(plane).points)\n",
    "    \n",
    "    pseudoinverse = np.linalg.pinv(plane_points.T)\n",
    "    plane_normals.append(pseudoinverse.T.dot(np.ones(plane_points.shape[0])))\n",
    "    \n",
    "plane_normals = np.array(plane_normals)\n",
    "print(plane_normals)\n"
   ]
  },
  {
   "cell_type": "markdown",
   "metadata": {},
   "source": [
    "## SVD of Walls\n",
    "Principle vectors don't seem aligned as I thought they would be?"
   ]
  },
  {
   "cell_type": "code",
   "execution_count": 23,
   "metadata": {},
   "outputs": [],
   "source": [
    "plane = planes_list[2]\n",
    "wall_cp = copy.deepcopy(walls)\n",
    "plane = wall_cp.select_down_sample(plane)\n",
    "points = np.asarray(plane.points)\n",
    "u, s, v = np.linalg.svd(points)\n",
    "\n",
    "s /= np.linalg.norm(s)\n",
    "\n",
    "for i in range(len(s)):\n",
    "    v[i] *= s[i]\n",
    "\n",
    "o3d.visualization.draw_geometries([plane, utils.create_vector_graph(v)])"
   ]
  },
  {
   "cell_type": "markdown",
   "metadata": {},
   "source": [
    "## Match to plane in full size cloud"
   ]
  },
  {
   "cell_type": "code",
   "execution_count": 24,
   "metadata": {},
   "outputs": [],
   "source": [
    "# now match to the original full size point cloud\n",
    "\n",
    "cl.paint_uniform_color([0.5,0.5,0.5])\n",
    "for norm, colour in zip(plane_normals, colours):\n",
    "    dot_match = np.abs(1-np.asarray(cl.points).dot(norm))\n",
    "    for i in range(len(dot_match)):\n",
    "        if dot_match[i] <0.04:\n",
    "            cl.colors[i] = colour\n",
    "\n",
    "# add normals for clearer viewing\n",
    "if not cl.has_normals():\n",
    "    cl.estimate_normals(o3d.geometry.KDTreeSearchParamHybrid(radius=0.04 * 2, max_nn=30))\n",
    "o3d.visualization.draw_geometries([cl])"
   ]
  },
  {
   "cell_type": "code",
   "execution_count": null,
   "metadata": {},
   "outputs": [],
   "source": []
  }
 ],
 "metadata": {
  "kernelspec": {
   "display_name": "Python 3",
   "language": "python",
   "name": "python3"
  },
  "language_info": {
   "codemirror_mode": {
    "name": "ipython",
    "version": 3
   },
   "file_extension": ".py",
   "mimetype": "text/x-python",
   "name": "python",
   "nbconvert_exporter": "python",
   "pygments_lexer": "ipython3",
   "version": "3.7.3"
  }
 },
 "nbformat": 4,
 "nbformat_minor": 2
}
