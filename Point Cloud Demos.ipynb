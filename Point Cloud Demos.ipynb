{
 "cells": [
  {
   "cell_type": "markdown",
   "metadata": {},
   "source": [
    "# Point Cloud Demonstrations\n",
    "\n",
    "## Registration\n",
    "\n",
    "Registers two point clouds with slight offset.\n"
   ]
  },
  {
   "cell_type": "code",
   "execution_count": 1,
   "metadata": {},
   "outputs": [],
   "source": [
    "import open3d as o3d\n",
    "import numpy as np\n",
    "import copy\n",
    "\n",
    "import utils"
   ]
  },
  {
   "cell_type": "code",
   "execution_count": null,
   "metadata": {},
   "outputs": [],
   "source": [
    "def draw_registration_result_original_color(source, target, transformation):\n",
    "    source_temp = copy.deepcopy(source)\n",
    "    source_temp.transform(transformation)\n",
    "    o3d.visualization.draw_geometries([source_temp, target])\n",
    "\n",
    "# load point clouds\n",
    "base = o3d.io.read_point_cloud(\"./Point Clouds/Cleaner/1.ply\")\n",
    "source = o3d.io.read_point_cloud(\"./Point Clouds/Cleaner/8.ply\")\n",
    "\n",
    "# get 4x4 transformation matrix\n",
    "trans = utils.register_clouds(base, source)\n",
    "\n",
    "# show original clouds\n",
    "o3d.visualization.draw_geometries([base, source])\n",
    "\n",
    "# show aligned clouds\n",
    "draw_registration_result_original_color(source, base, trans)\n"
   ]
  },
  {
   "cell_type": "markdown",
   "metadata": {},
   "source": [
    "## Normals of point cloud\n",
    "Shows the histogram of normals for the cloud. See utils module - running in notebook is much slower"
   ]
  },
  {
   "cell_type": "markdown",
   "metadata": {},
   "source": [
    "## Outlier removal\n",
    "Removes outliers and scatter artifacts from the pointcloud"
   ]
  },
  {
   "cell_type": "code",
   "execution_count": 2,
   "metadata": {},
   "outputs": [],
   "source": [
    "cl, ind=utils.clean_cloud(\"./Point Clouds/Cleaner/1.ply\", view=True)"
   ]
  },
  {
   "cell_type": "markdown",
   "metadata": {},
   "source": [
    "## Cleaned and combined 8 clouds"
   ]
  },
  {
   "cell_type": "code",
   "execution_count": null,
   "metadata": {},
   "outputs": [],
   "source": [
    "base = o3d.io.read_point_cloud(\"./Point Clouds/combined_cloud_clean.ply\")\n",
    "o3d.visualization.draw_geometries([base])"
   ]
  },
  {
   "cell_type": "markdown",
   "metadata": {},
   "source": [
    "## SVD of isolated plane\n",
    "After isolating one of the planes and performing SVD the vectors aren't what I thought they would be?"
   ]
  },
  {
   "cell_type": "code",
   "execution_count": null,
   "metadata": {},
   "outputs": [],
   "source": [
    "plane = o3d.io.read_point_cloud(\"./plane.ply\")\n",
    "points = np.asarray(plane.points)\n",
    "u, s, v = np.linalg.svd(points)\n",
    "\n",
    "s /= np.linalg.norm(s)\n",
    "\n",
    "for i in range(len(s)):\n",
    "    v[i] *= s[i]\n",
    "\n",
    "o3d.visualization.draw_geometries([plane, utils.create_vector_graph(v)])"
   ]
  },
  {
   "cell_type": "markdown",
   "metadata": {},
   "source": [
    "## Fitting to plane\n",
    "Shows normal vector to plane"
   ]
  },
  {
   "cell_type": "code",
   "execution_count": 3,
   "metadata": {},
   "outputs": [],
   "source": [
    "cl = o3d.io.read_point_cloud(\"./Point Clouds/combined_cloud_clean.ply\")\n",
    "pcd = cl.voxel_down_sample(0.01)\n",
    "\n",
    "pcd.paint_uniform_color([0.5, 0.5, 0.5])\n",
    "pcd_tree = o3d.geometry.KDTreeFlann(pcd)\n",
    "pcd.estimate_normals(o3d.geometry.KDTreeSearchParamHybrid(radius=0.04 * 2,\n",
    "                                                          max_nn=30))\n",
    "cloud_size = np.asarray(pcd.points).shape[0]\n",
    "\n",
    "# 1500 is on the plane by guess\n",
    "pcd.colors[1500] = [1, 0, 0]\n",
    "\n",
    "# find it's nearest neighbour\n",
    "# k is number of nearest neighbours, idx is index in list _ is the distances\n",
    "seeds = {1500}\n",
    "plane = {1500}\n",
    "normals = np.asarray(pcd.normals)\n",
    "match_normal = normals[1500]\n",
    "\n",
    "# region grow\n",
    "counter = 0\n",
    "while seeds != set():\n",
    "    seed = seeds.pop()\n",
    "    [k, idx, _] = pcd_tree.search_knn_vector_3d(pcd.points[seed], 30)\n",
    "    match = np.abs(normals.dot(match_normal))\n",
    "    plane_addition = {i for i in idx if match[i] > 0.8}\n",
    "    seed_addition = {i for i in plane_addition if not i in plane}\n",
    "    seeds.update(seed_addition)\n",
    "    plane.update(plane_addition)\n",
    "    \n",
    "    # get average normal to keep direction fixed\n",
    "    counter +=1\n",
    "    counter %= 100\n",
    "    if counter == 0:\n",
    "        match_normal = np.array([normals[i] for i in plane]).mean(axis=0)\n",
    "\n",
    "for i in plane:\n",
    "    pcd.colors[i] = [1, 0, 0]\n",
    "\n",
    "plane = pcd.select_down_sample(np.array(list(plane)))\n",
    "\n",
    "points = np.asarray(plane.points)\n",
    "pseudoinverse = np.linalg.pinv(points.T)\n",
    "vec = pseudoinverse.T.dot(np.ones(points.shape[0]))\n",
    "\n",
    "o3d.visualization.draw_geometries([pcd, utils.create_vector_graph([vec])])"
   ]
  },
  {
   "cell_type": "code",
   "execution_count": 4,
   "metadata": {},
   "outputs": [],
   "source": [
    "# now match to the original full size point cloud\n",
    "\n",
    "cl.paint_uniform_color([0.5,0.5,0.5])\n",
    "dot_match = np.abs(1-np.asarray(cl.points).dot(vec))\n",
    "for i in range(len(dot_match)):\n",
    "    if dot_match[i] <0.015:\n",
    "        cl.colors[i] = [1,0,0]\n",
    "\n",
    "# add normals for clearer viewing\n",
    "if not cl.has_normals():\n",
    "    cl.estimate_normals(\n",
    "        o3d.geometry.KDTreeSearchParamHybrid(radius=0.04 * 2,\n",
    "                                             max_nn=30))\n",
    "o3d.visualization.draw_geometries([cl])"
   ]
  },
  {
   "cell_type": "code",
   "execution_count": null,
   "metadata": {},
   "outputs": [],
   "source": []
  }
 ],
 "metadata": {
  "kernelspec": {
   "display_name": "Python 3",
   "language": "python",
   "name": "python3"
  },
  "language_info": {
   "codemirror_mode": {
    "name": "ipython",
    "version": 3
   },
   "file_extension": ".py",
   "mimetype": "text/x-python",
   "name": "python",
   "nbconvert_exporter": "python",
   "pygments_lexer": "ipython3",
   "version": "3.7.3"
  }
 },
 "nbformat": 4,
 "nbformat_minor": 2
}
